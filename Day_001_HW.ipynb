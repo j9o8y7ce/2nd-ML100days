{
 "cells": [
  {
   "cell_type": "code",
   "execution_count": null,
   "metadata": {},
   "outputs": [],
   "source": [
    "Day 001 HW"
   ]
  },
  {
   "cell_type": "code",
   "execution_count": 16,
   "metadata": {},
   "outputs": [],
   "source": [
    "import numpy as np\n",
    "import matplotlib.pyplot as plt"
   ]
  },
  {
   "cell_type": "code",
   "execution_count": 17,
   "metadata": {},
   "outputs": [],
   "source": [
    "def mean_squared_error(y,yp):\n",
    "    \"\"\"\n",
    "    請完成這個Function 後往下執行\n",
    "    計算MAE\n",
    "    Args:\n",
    "        -y: 實際值\n",
    "        -yp: 預測值\n",
    "    Return:\n",
    "        -mse: MSE\n",
    "    \"\"\"\n",
    "    mse = sum((y- yp)**2) /len(y)\n",
    "    return mse"
   ]
  },
  {
   "cell_type": "code",
   "execution_count": 18,
   "metadata": {},
   "outputs": [],
   "source": [
    "def mean_absolute_error(y,yp):\n",
    "    \"\"\"\n",
    "    計算MAE\n",
    "    Args:\n",
    "        - y: 實際值\n",
    "        - yp: 預測值\n",
    "    Return:\n",
    "        - mae: MAE\n",
    "    \"\"\"\n",
    "    mae = MAE =sum(abs(y-yp)) / len(y)\n",
    "    return mae"
   ]
  },
  {
   "cell_type": "code",
   "execution_count": 19,
   "metadata": {},
   "outputs": [
    {
     "data": {
      "image/png": "[encoded data removed]",
      "text/plain": [
       "<Figure size 432x288 with 1 Axes>"
      ]
     },
     "metadata": {
      "needs_background": "light"
     },
     "output_type": "display_data"
    }
   ],
   "source": [
    "w = 3\n",
    "b = 0.5\n",
    "\n",
    "x_lin = np.linspace(0, 100, 101)\n",
    "\n",
    "y = (x_lin + np.random.randn(101) * 5) * w + b\n",
    "\n",
    "plt.plot(x_lin, y, 'b.', label ='data points')\n",
    "plt.title(\"Assume we have data points\")\n",
    "plt.legend(loc = 2)\n",
    "plt.show()"
   ]
  },
  {
   "cell_type": "code",
   "execution_count": 20,
   "metadata": {},
   "outputs": [
    {
     "data": {
      "image/png": "[encoded data removed]",
      "text/plain": [
       "<Figure size 432x288 with 1 Axes>"
      ]
     },
     "metadata": {
      "needs_background": "light"
     },
     "output_type": "display_data"
    }
   ],
   "source": [
    "y_hat = x_lin *w +b\n",
    "plt.plot(x_lin, y, 'b.', label = 'data')\n",
    "plt.plot(x_lin, y_hat, 'r-', label = 'prediction')\n",
    "plt.title(\"Assume we have data points (And the prediction)\")\n",
    "plt.legend(loc = 2)\n",
    "plt.show()"
   ]
  },
  {
   "cell_type": "code",
   "execution_count": 21,
   "metadata": {},
   "outputs": [
    {
     "name": "stdout",
     "output_type": "stream",
     "text": [
      "The Mean Squared error is 224.111\n",
      "The Mean Absolute error is 11.636\n"
     ]
    }
   ],
   "source": [
    "# 執行 Function, 確認有沒有正常執行\n",
    "MSE = mean_squared_error(y, y_hat)\n",
    "MAE = mean_absolute_error(y, y_hat)\n",
    "print(\"The Mean Squared error is %.3f\" % (MSE))\n",
    "print(\"The Mean Absolute error is %.3f\" % (MAE))"
   ]
  },
  {
   "cell_type": "code",
   "execution_count": 15,
   "metadata": {},
   "outputs": [
    {
     "ename": "SyntaxError",
     "evalue": "invalid character in identifier (<ipython-input-15-664f5d8ec985>, line 1)",
     "output_type": "error",
     "traceback": [
      "\u001b[0;36m  File \u001b[0;32m\"<ipython-input-15-664f5d8ec985>\"\u001b[0;36m, line \u001b[0;32m1\u001b[0m\n\u001b[0;31m    作業1：\u001b[0m\n\u001b[0m       ^\u001b[0m\n\u001b[0;31mSyntaxError\u001b[0m\u001b[0;31m:\u001b[0m invalid character in identifier\n"
     ]
    }
   ],
   "source": [
    "作業1：\n",
    "請上 Kaggle, 在 Competitions 或 Dataset 中找一組競賽或資料並寫下：\n",
    "選擇資料：https://www.kaggle.com/ronitf/heart-disease-uci\n",
    "\n",
    "你選的這組資料為何重要？\n",
    "可以藉由這組數據，包含性別、年齡、胸痛程度、血壓、血糖...等來觀察是否可由這些資訊推測心血管狀況及心臟健康程度。\n",
    "2. 資料從何而來？(tips: 譬如提供者是誰、以什麼方式蒐集)\n",
    "數據是由四所醫學中心及大學醫院收集而來\n",
    "3. 蒐集而來的資料型態為何\n",
    "Age: int, sex: category, chest pain type: category, resting blood pressure: int, serum cholestoraliun mg/dl: int, fasting blood sugar: int, resting electrocardiographic results (values 0,1,2): category, max heart rate achieved: int, exercise induced angina: category, old peak: float, the slope of the peak exercise ST segment: category, number of major vessels: category, thal: category\n",
    "4. 這組資料想解決的問題如何評估?\n",
    "先針對各項解釋變數畫出敘述統計圖，並觀察其與心臟狀況的關係是否有趨勢或是相關性。再利用決策樹及類別分析試著組出模型，再丟入test data確認預測率高低。\n",
    "\n",
    "作業2：\n",
    "想像你經營一個自由載客車隊，你希望能透過數據分析以提升業績，請你思考並描述你如何規劃整體的分析/解決方案：\n",
    "核心問題為何 (tips：如何定義 「提升業績 & 你的假設」)\n",
    "提升業績：應以完整交易量做為提升目標\n",
    "2. 資料從何而來 (tips：哪些資料可能會對你想問的問題產生影響 & 資料如何蒐集)\n",
    "從app、訂車網站、車隊客服而來：由app及網站的資料可能多為年輕客群，若能將客服資訊也記錄下來可以擴大資料來源和年齡層。缺點為客服數據若由人員手動輸入有紀錄錯誤的風險。\n",
    "須記錄所需載客時間、上車地點、下車地點、路程遠近(km)、路程時間(min)、交易金額($)、付款方式及乘車人數\n",
    "3. 蒐集而來的資料型態為何\n",
    "載客時間：date, 上車地點、下車地點：string, 路程遠近：float, 路程時間：float, 交易金額：int, 付款方式：category, 乘車人數：int\n",
    "\n",
    "4. 你要回答的問題，其如何評估 (tips：你的假設如何驗證)\n",
    "是先畫出各項解釋變數與交易金額的趨勢圖、解釋變數與解釋變數的相關性，再試圖整理出找有關聯性的並分類。如在什麼時間點什麼上車地點的需求量較大，即可增加派車輛。 或者因路程遠交易金額高使得付款方式改變，可新增車上的刷卡功能，吸引年輕族群使用。\n",
    " "
   ]
  },
  {
   "cell_type": "code",
   "execution_count": null,
   "metadata": {},
   "outputs": [],
   "source": [
    "作業2：\n",
    "想像你經營一個自由載客車隊，你希望能透過數據分析以提升業績，請你思考並描述你如何規劃整體的分析/解決方案：\n",
    "核心問題為何 (tips：如何定義 「提升業績 & 你的假設」)\n",
    "提升業績：應以完整交易量做為提升目標\n",
    "2. 資料從何而來 (tips：哪些資料可能會對你想問的問題產生影響 & 資料如何蒐集)\n",
    "從app、訂車網站、車隊客服而來：由app及網站的資料可能多為年輕客群，若能將客服資訊也記錄下來可以擴大資料來源和年齡層。缺點為客服數據若由人員手動輸入有紀錄錯誤的風險。\n",
    "須記錄所需載客時間、上車地點、下車地點、路程遠近(km)、路程時間(min)、交易金額($)、付款方式及乘車人數\n",
    "3. 蒐集而來的資料型態為何\n",
    "載客時間：date, 上車地點、下車地點：string, 路程遠近：float, 路程時間：float, 交易金額：int, 付款方式：category, 乘車人數：int\n",
    "\n",
    "4. 你要回答的問題，其如何評估 (tips：你的假設如何驗證)\n",
    "是先畫出各項解釋變數與交易金額的趨勢圖、解釋變數與解釋變數的相關性，再試圖整理出找有關聯性的並分類。如在什麼時間點什麼上車地點的需求量較大，即可增加派車輛。 或者因路程遠交易金額高使得付款方式改變，可新增車上的刷卡功能，吸引年輕族群使用。\n"
   ]
  }
 ],
 "metadata": {
  "kernelspec": {
   "display_name": "Python 3",
   "language": "python",
   "name": "python3"
  },
  "language_info": {
   "codemirror_mode": {
    "name": "ipython",
    "version": 3
   },
   "file_extension": ".py",
   "mimetype": "text/x-python",
   "name": "python",
   "nbconvert_exporter": "python",
   "pygments_lexer": "ipython3",
   "version": "3.7.3"
  }
 },
 "nbformat": 4,
 "nbformat_minor": 2
}
